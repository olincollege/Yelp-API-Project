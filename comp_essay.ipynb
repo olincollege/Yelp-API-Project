{
 "cells": [
  {
   "cell_type": "markdown",
   "metadata": {},
   "source": [
    "# Yelp API Project!\n",
    "Created by Aaron Codrington and Diego Riverbay\n"
   ]
  },
  {
   "cell_type": "markdown",
   "metadata": {},
   "source": [
    "# Intro:\n",
    "\n",
    "\n",
    "Picture this. Your hungrey, famished, pekish, literally starving. You need food and not just any food you need it fast.\n",
    "I can't even bare to imagine \n",
    "We sought to answer the question \"\"\n"
   ]
  },
  {
   "cell_type": "markdown",
   "metadata": {},
   "source": [
    "# Methodology:\n",
    "In order to generate a model we first needed data. In order to get data we used the Yelp Fusion API.\n",
    "This API allows us to gather data about buisnesses based on a set of parameters. In order to first reach the data we needed to create a function that would request data from the Yelp API, interpret it, then create a csv file containg the specific subset of data we needed. "
   ]
  },
  {
   "cell_type": "code",
   "execution_count": null,
   "metadata": {},
   "outputs": [],
   "source": [
    "import requests\n",
    "from api_setup import api_key\n",
    "import numpy as np\n",
    "\n",
    "API_KEY = api_key\n",
    "API_HOST = 'https://api.yelp.com'\n",
    "SEARCH_PATH = '/v3/businesses/search'\n",
    "ENDPOINT = \"https://api.yelp.com/v3/businesses/search\"\n",
    "API_AUTH = {'Authorization': 'bearer %s' % API_KEY}\n",
    "\n",
    "PARAMETERS = {'location':'San Francisco',\n",
    "                'limit':10,#limits to 10 searches\n",
    "                'radius':1000,\n",
    "                'term':'Fast Food'}#optional term like coffee"
   ]
  },
  {
   "cell_type": "markdown",
   "metadata": {},
   "source": [
    "The search parameters we decided to use are \"limit\" which limits the amount of data we call from the API, \"Radius\" which is the area around the location point, \"term\" which is an optional refining parameter that allows us to search buisnesses that only serve a specific thing like \"fast food\" for example, and lastly \"location\" is just the general location of buisnesses. "
   ]
  },
  {
   "cell_type": "markdown",
   "metadata": {},
   "source": [
    "Once we specified what data we should be getting we needed to request said data. the code segment below allows us to request data using the Yelp API."
   ]
  },
  {
   "cell_type": "code",
   "execution_count": null,
   "metadata": {},
   "outputs": [],
   "source": [
    "response = requests.get(url=ENDPOINT, \n",
    "                        params=PARAMETERS, \n",
    "                        headers=API_AUTH)\n",
    "\n",
    "#need this line to convert out of j form\n",
    "yelp_data = response.json()"
   ]
  },
  {
   "cell_type": "markdown",
   "metadata": {},
   "source": [
    "The requested data returns in the form of a json file. the line \"yelp_data = response.json()\" converts the json data we received into a readable form which can be printed out and read. This data is  stored under the name yelp_data. We then define buisness_list and rating_list as blank lists in order to append the readable data in yelp_data to them. Next we search all the data in yelp_data for the category \"buisnesses\" and then the sub categories name, and rating. "
   ]
  },
  {
   "cell_type": "code",
   "execution_count": null,
   "metadata": {},
   "outputs": [],
   "source": [
    "buisness_list = []\n",
    "rating_list = []\n",
    "for rate in yelp_data['businesses']:\n",
    "    buisness_list.append(rate['name'])\n",
    "    rating_list.append(rate['rating'])\n",
    "\n",
    "print(buisness_list) #sanity checking\n",
    "print(rating_list) #sanity checking\n",
    "\n",
    "#saving data to csv file\n",
    "#this way saves data to data storage/stored_data\n",
    "np.savetxt('data_storage/single_stored_data.csv', [p for p in zip(buisness_list, rating_list)], delimiter=',', fmt='%s')"
   ]
  },
  {
   "cell_type": "markdown",
   "metadata": {},
   "source": [
    "The last line of the function saves the data as a .csv file labeled single_stored_data.csv inside the data_storage folder. This data can then be read using the graph data function we created. This first function was the basis for all of our other functions and served as the base code which we can continuously imrpove upon in order to better suit what data we needed to find. From this original function, the functions multi_use_rating_search, expanded_search, and \"add more here\" were built. "
   ]
  },
  {
   "cell_type": "markdown",
   "metadata": {},
   "source": [
    "# Conclusions\n",
    "\n",
    "\n",
    "\n",
    "What are the important insights that the reader should get from this project?\n",
    "What are the contextual or ethical implications of your topic or work?\n",
    "What lessons did you learn as you did the project?\n",
    "What were the most difficult, challenging, or frustrating parts of the project?\n",
    "\n",
    "Honestly the most difficult part of this entire project was pivoting \n",
    "\n",
    "In what ways would you extend or change your project if you had more time?"
   ]
  }
 ],
 "metadata": {
  "interpreter": {
   "hash": "95708c253e485dfee396183f25509c4e18d98a2c22003c5ececa486f5f235a36"
  },
  "kernelspec": {
   "display_name": "Python 3.9.7 ('base')",
   "language": "python",
   "name": "python3"
  },
  "language_info": {
   "codemirror_mode": {
    "name": "ipython",
    "version": 3
   },
   "file_extension": ".py",
   "mimetype": "text/x-python",
   "name": "python",
   "nbconvert_exporter": "python",
   "pygments_lexer": "ipython3",
   "version": "3.9.7"
  },
  "orig_nbformat": 4
 },
 "nbformat": 4,
 "nbformat_minor": 2
}
