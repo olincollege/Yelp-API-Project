{
 "cells": [
  {
   "cell_type": "markdown",
   "metadata": {},
   "source": [
    "# Yelp API Project!!!!!!\n",
    "Created by Aaron Codrington and Diego Riverbay\n",
    "\n",
    "The purpose of this project is to..."
   ]
  },
  {
   "cell_type": "markdown",
   "metadata": {},
   "source": [
    "# Methodology:\n",
    "In order to generate a model we first needed data. In order to get data we used the Yelp Fusion API.\n",
    "This API allows us to gather data about buisnesses based on a set of parameters. "
   ]
  },
  {
   "cell_type": "code",
   "execution_count": null,
   "metadata": {},
   "outputs": [],
   "source": [
    "PARAMETERS = {'location':'San Francisco',\n",
    "                'limit':10,#limits to 20 searches\n",
    "                'radius':1000,\n",
    "                'term':'Fast Food'}#optional term like coffee"
   ]
  },
  {
   "cell_type": "markdown",
   "metadata": {},
   "source": [
    "The search parameters we decided to use are \"limit\" which limits the amount of data we call from the API, \"Radius\" which is the area around the location point, \"term\" which is an optional refining parameter that allows us to search buisnesses that only serve a specific thing like \"fast food\" for example, and lastly \"location\" is just the general location of buisnesses. "
   ]
  }
 ],
 "metadata": {
  "interpreter": {
   "hash": "95708c253e485dfee396183f25509c4e18d98a2c22003c5ececa486f5f235a36"
  },
  "kernelspec": {
   "display_name": "Python 3.9.7 ('base')",
   "language": "python",
   "name": "python3"
  },
  "language_info": {
   "name": "python",
   "version": "3.9.7"
  },
  "orig_nbformat": 4
 },
 "nbformat": 4,
 "nbformat_minor": 2
}
