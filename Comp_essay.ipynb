{
 "cells": [
  {
   "cell_type": "markdown",
   "metadata": {},
   "source": [
    "# Yelp API Project!\n",
    "Created by Aaron Codrington and Diego Riverbay\n",
    "\n",
    "The purpose of this project is to utilize the Yelp Fusion APi in order to..."
   ]
  },
  {
   "cell_type": "markdown",
   "metadata": {},
   "source": [
    "# Methodology:\n",
    "In order to generate a model we first needed data. In order to get data we used the Yelp Fusion API.\n",
    "This API allows us to gather data about buisnesses based on a set of parameters. "
   ]
  },
  {
   "cell_type": "code",
   "execution_count": 1,
   "metadata": {},
   "outputs": [],
   "source": [
    "import requests\n",
    "from API_setup import api_key\n",
    "API_KEY = api_key\n",
    "API_HOST = 'https://api.yelp.com'\n",
    "SEARCH_PATH = '/v3/businesses/search'\n",
    "ENDPOINT = \"https://api.yelp.com/v3/businesses/search\"\n",
    "API_AUTH = {'Authorization': 'bearer %s' % API_KEY}\n",
    "\n",
    "PARAMETERS = {'location':'San Francisco',\n",
    "                'limit':10,#limits to 20 searches\n",
    "                'radius':1000,\n",
    "                'term':'Fast Food'}#optional term like coffee"
   ]
  },
  {
   "cell_type": "markdown",
   "metadata": {},
   "source": [
    "The search parameters we decided to use are \"limit\" which limits the amount of data we call from the API, \"Radius\" which is the area around the location point, \"term\" which is an optional refining parameter that allows us to search buisnesses that only serve a specific thing like \"fast food\" for example, and lastly \"location\" is just the general location of buisnesses. "
   ]
  },
  {
   "cell_type": "markdown",
   "metadata": {},
   "source": [
    "Once we specified what data we should be getting we needed to request said data. the code segment below allows us to request data using the Yelp API."
   ]
  },
  {
   "cell_type": "code",
   "execution_count": 2,
   "metadata": {},
   "outputs": [],
   "source": [
    "response = requests.get(url=ENDPOINT, \n",
    "                        params=PARAMETERS, \n",
    "                        headers=API_AUTH)\n",
    "\n",
    "#need this line to convert out of j form\n",
    "yelp_data = response.json()"
   ]
  },
  {
   "cell_type": "markdown",
   "metadata": {},
   "source": [
    "the requested data returns in the form of a json file. the line \"yelp_data = response.json()\" converts the json data into a readable form which can be printed out and read."
   ]
  },
  {
   "cell_type": "code",
   "execution_count": 3,
   "metadata": {},
   "outputs": [
    {
     "ename": "KeyError",
     "evalue": "'businesses'",
     "output_type": "error",
     "traceback": [
      "\u001b[0;31m---------------------------------------------------------------------------\u001b[0m",
      "\u001b[0;31mKeyError\u001b[0m                                  Traceback (most recent call last)",
      "\u001b[0;32m/tmp/ipykernel_5542/343934573.py\u001b[0m in \u001b[0;36m<module>\u001b[0;34m\u001b[0m\n\u001b[0;32m----> 1\u001b[0;31m \u001b[0;32mfor\u001b[0m \u001b[0mrate\u001b[0m \u001b[0;32min\u001b[0m \u001b[0myelp_data\u001b[0m\u001b[0;34m[\u001b[0m\u001b[0;34m'businesses'\u001b[0m\u001b[0;34m]\u001b[0m\u001b[0;34m:\u001b[0m\u001b[0;34m\u001b[0m\u001b[0;34m\u001b[0m\u001b[0m\n\u001b[0m\u001b[1;32m      2\u001b[0m     \u001b[0mprint\u001b[0m\u001b[0;34m(\u001b[0m\u001b[0;34mf\"{rate['name']}'s rating is {rate['rating']}\"\u001b[0m\u001b[0;34m)\u001b[0m\u001b[0;34m\u001b[0m\u001b[0;34m\u001b[0m\u001b[0m\n",
      "\u001b[0;31mKeyError\u001b[0m: 'businesses'"
     ]
    }
   ],
   "source": [
    "for rate in yelp_data['businesses']:\n",
    "    print(f\"{rate['name']}'s rating is {rate['rating']}\")"
   ]
  },
  {
   "cell_type": "markdown",
   "metadata": {},
   "source": [
    "In this last line of code we search our pool of data for buisnesses and specifically pull out the name and rating associated with each buisness"
   ]
  }
 ],
 "metadata": {
  "interpreter": {
   "hash": "95708c253e485dfee396183f25509c4e18d98a2c22003c5ececa486f5f235a36"
  },
  "kernelspec": {
   "display_name": "Python 3.9.7 ('base')",
   "language": "python",
   "name": "python3"
  },
  "language_info": {
   "codemirror_mode": {
    "name": "ipython",
    "version": 3
   },
   "file_extension": ".py",
   "mimetype": "text/x-python",
   "name": "python",
   "nbconvert_exporter": "python",
   "pygments_lexer": "ipython3",
   "version": "3.9.7"
  },
  "orig_nbformat": 4
 },
 "nbformat": 4,
 "nbformat_minor": 2
}
